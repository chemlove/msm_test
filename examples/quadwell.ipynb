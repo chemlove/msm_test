{
 "cells": [
  {
   "cell_type": "code",
   "execution_count": 1,
   "metadata": {
    "collapsed": false
   },
   "outputs": [],
   "source": [
    "%matplotlib inline\n",
    "import numpy as np\n",
    "from matplotlib import pyplot as plt\n",
    "from msmbuilder.example_datasets import QuadWell, quadwell_eigs\n",
    "from msmbuilder.cluster import NDGrid\n",
    "from msmbuilder.msm import MarkovStateModel\n",
    "from sklearn.pipeline import Pipeline"
   ]
  },
  {
   "cell_type": "code",
   "execution_count": 2,
   "metadata": {
    "collapsed": false
   },
   "outputs": [
    {
     "name": "stdout",
     "output_type": "stream",
     "text": [
      "Saving \"/home/gerry/msmbuilder_data/quadwell/version-1_random-state-0.pkl\"... (<type 'list'>)\n",
      "This dataset consists of 100 trajectories simulated with Brownian dynamics\n",
      "on the reduced potential function\n",
      "\n",
      "V = 4(x^8 + 0.8 exp(-80 x^2) + 0.2 exp(-80 (x-0.5)^2) + 0.5 exp(-40 (x+0.5)^2)).\n",
      "\n",
      "The simulations are governed by the stochastic differential equation\n",
      "\n",
      "dx_t/dt = -\\nabla V(x) + \\sqrt{2D} * R(t),\n",
      "\n",
      "where R(t) is a standard normal white-noise process, and D=1e3. The timsetep\n",
      "is 1e-3. Each trajectory is 10^3 steps long, and starts from a random\n",
      "initial point sampled from the uniform distribution on [-1, 1].\n",
      "\n"
     ]
    },
    {
     "name": "stderr",
     "output_type": "stream",
     "text": [
      "/usr/local/lib/python2.7/dist-packages/ipykernel/__main__.py:3: RuntimeWarning: invalid value encountered in log\n",
      "  app.launch_new_instance()\n"
     ]
    }
   ],
   "source": [
    "dataset = QuadWell(random_state=0).get()\n",
    "true_eigenvalues = quadwell_eigs(200)[0]\n",
    "true_timescales = -1 / np.log(true_eigenvalues[1:])\n",
    "print(QuadWell.description())"
   ]
  },
  {
   "cell_type": "code",
   "execution_count": 3,
   "metadata": {
    "collapsed": false
   },
   "outputs": [],
   "source": [
    "def msm_timescales(trajectories, n_states):\n",
    "    pipeline = Pipeline([\n",
    "        ('grid', NDGrid(min=-1.2, max=1.2)),\n",
    "        ('msm', MarkovStateModel(n_timescales=4, reversible_type='transpose', verbose=False))\n",
    "    ])\n",
    "    pipeline.set_params(grid__n_bins_per_feature=n_states)\n",
    "    pipeline.fit(trajectories)\n",
    "    return pipeline.named_steps['msm'].timescales_\n",
    "\n",
    "n_states = [5, 10, 50, 100]\n",
    "ts = np.array([msm_timescales(dataset.trajectories, n) for n in n_states])"
   ]
  },
  {
   "cell_type": "code",
   "execution_count": 4,
   "metadata": {
    "collapsed": false
   },
   "outputs": [
    {
     "data": {
      "image/png": "[encoded data removed]",
      "text/plain": [
       "<matplotlib.figure.Figure at 0x7f83e2fb0690>"
      ]
     },
     "metadata": {},
     "output_type": "display_data"
    }
   ],
   "source": [
    "for i, c in enumerate(['b', 'r', 'm']):\n",
    "    plt.plot(n_states, ts[:, i], c=c, marker='x')\n",
    "    plt.axhline(true_timescales[i], ls='--', c=c, lw=2)\n",
    "\n",
    "plt.xlabel('Number of states')\n",
    "plt.ylabel('Timescale (steps)')\n",
    "plt.show()"
   ]
  }
 ],
 "metadata": {
  "kernelspec": {
   "display_name": "Python 2",
   "language": "python",
   "name": "python2"
  },
  "language_info": {
   "codemirror_mode": {
    "name": "ipython",
    "version": 2
   },
   "file_extension": ".py",
   "mimetype": "text/x-python",
   "name": "python",
   "nbconvert_exporter": "python",
   "pygments_lexer": "ipython2",
   "version": "2.7.6"
  }
 },
 "nbformat": 4,
 "nbformat_minor": 0
}
