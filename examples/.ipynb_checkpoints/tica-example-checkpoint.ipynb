{
 "cells": [
  {
   "cell_type": "markdown",
   "metadata": {},
   "source": [
    "This example compares two methods for dimensionality reduction:\n",
    "tICA and PCA. "
   ]
  },
  {
   "cell_type": "code",
   "execution_count": 1,
   "metadata": {
    "collapsed": false
   },
   "outputs": [
    {
     "ename": "ImportError",
     "evalue": "No module named simtk.openmm",
     "output_type": "error",
     "traceback": [
      "\u001b[1;31m---------------------------------------------------------------------------\u001b[0m",
      "\u001b[1;31mImportError\u001b[0m                               Traceback (most recent call last)",
      "\u001b[1;32m<ipython-input-1-0a143a89537d>\u001b[0m in \u001b[0;36m<module>\u001b[1;34m()\u001b[0m\n\u001b[0;32m      3\u001b[0m \u001b[1;32mimport\u001b[0m \u001b[0mnumpy\u001b[0m \u001b[1;32mas\u001b[0m \u001b[0mnp\u001b[0m\u001b[1;33m\u001b[0m\u001b[0m\n\u001b[0;32m      4\u001b[0m \u001b[1;32mimport\u001b[0m \u001b[0mmatplotlib\u001b[0m\u001b[1;33m.\u001b[0m\u001b[0mpyplot\u001b[0m \u001b[1;32mas\u001b[0m \u001b[0mplt\u001b[0m\u001b[1;33m\u001b[0m\u001b[0m\n\u001b[1;32m----> 5\u001b[1;33m \u001b[1;32mimport\u001b[0m \u001b[0msimtk\u001b[0m\u001b[1;33m.\u001b[0m\u001b[0mopenmm\u001b[0m \u001b[1;32mas\u001b[0m \u001b[0mmm\u001b[0m\u001b[1;33m\u001b[0m\u001b[0m\n\u001b[0m\u001b[0;32m      6\u001b[0m \u001b[1;32mfrom\u001b[0m \u001b[0mmsmbuilder\u001b[0m\u001b[1;33m.\u001b[0m\u001b[0mdecomposition\u001b[0m \u001b[1;32mimport\u001b[0m \u001b[0mtICA\u001b[0m\u001b[1;33m,\u001b[0m \u001b[0mPCA\u001b[0m\u001b[1;33m\u001b[0m\u001b[0m\n",
      "\u001b[1;31mImportError\u001b[0m: No module named simtk.openmm"
     ]
    }
   ],
   "source": [
    "%matplotlib inline\n",
    "from __future__ import print_function\n",
    "import numpy as np\n",
    "import matplotlib.pyplot as plt\n",
    "import simtk.openmm as mm\n",
    "from msmbuilder.decomposition import tICA, PCA"
   ]
  },
  {
   "cell_type": "markdown",
   "metadata": {},
   "source": [
    "First, let's use OpenMM to run some dynamics on the 3D potential energy function \n",
    "\n",
    "$$E(x,y,z) = 5 \\cdot (x-1)^2 \\cdot (x+1)^2 + y^2 + z^2$$\n",
    "\n",
    "From looking at this equation, we can see that along the $x$ dimension,\n",
    "the potential is a double-well, whereas along the $y$ and $z$ dimensions,\n",
    "we've just got a harmonic potential. So, we should expect that $x$ is the slow\n",
    "degree of freedom, whereas the system should equilibrate rapidly along $y$ and $z$."
   ]
  },
  {
   "cell_type": "code",
   "execution_count": null,
   "metadata": {
    "collapsed": false
   },
   "outputs": [],
   "source": [
    "def propagate(n_steps=10000):\n",
    "    \"Simulate some dynamics\"\n",
    "    system = mm.System()\n",
    "    system.addParticle(1)\n",
    "    force = mm.CustomExternalForce('5*(x-1)^2*(x+1)^2 + y^2 + z^2')\n",
    "    force.addParticle(0, [])\n",
    "    system.addForce(force)\n",
    "    integrator = mm.LangevinIntegrator(500, 1, 0.02)\n",
    "    context = mm.Context(system, integrator)\n",
    "    context.setPositions([[0, 0, 0]])\n",
    "    context.setVelocitiesToTemperature(500)\n",
    "    x = np.zeros((n_steps, 3))\n",
    "    for i in range(n_steps):\n",
    "        x[i] = context.getState(getPositions=True).getPositions(asNumpy=True)._value\n",
    "        integrator.step(1)\n",
    "    return x"
   ]
  },
  {
   "cell_type": "markdown",
   "metadata": {},
   "source": [
    "Okay, let's run the dynamics. The first plot below shows the $x$, $y$ and $z$ coordinate vs. time for the trajectory, and\n",
    "the second plot shows each of the 1D and 2D marginal distributions."
   ]
  },
  {
   "cell_type": "code",
   "execution_count": null,
   "metadata": {
    "collapsed": false
   },
   "outputs": [],
   "source": [
    "trajectory = propagate(10000)\n",
    "\n",
    "ylabels = ['x', 'y', 'z']\n",
    "for i in range(3):\n",
    "    plt.subplot(3, 1, i+1)\n",
    "    plt.plot(trajectory[:, i])\n",
    "    plt.ylabel(ylabels[i])\n",
    "plt.xlabel('Simulation time')\n",
    "plt.show()"
   ]
  },
  {
   "cell_type": "markdown",
   "metadata": {},
   "source": [
    "Note that the variance of $x$ is much lower than the variance in $y$ or $z$, despite it's bi-modal distribution."
   ]
  },
  {
   "cell_type": "code",
   "execution_count": null,
   "metadata": {
    "collapsed": false
   },
   "outputs": [],
   "source": [
    "# fit the two models\n",
    "tica = tICA(n_components=1, lag_time=100)\n",
    "pca = PCA(n_components=1)\n",
    "tica.fit([trajectory])\n",
    "pca.fit([trajectory])"
   ]
  },
  {
   "cell_type": "code",
   "execution_count": null,
   "metadata": {
    "collapsed": false
   },
   "outputs": [],
   "source": [
    "plt.subplot(1,2,1)\n",
    "plt.title('1st tIC')\n",
    "plt.bar([1,2,3], tica.components_[0], color='b')\n",
    "plt.xticks([1.5,2.5,3.5], ['x', 'y', 'z'])\n",
    "plt.subplot(1,2,2)\n",
    "plt.title('1st PC')\n",
    "plt.bar([1,2,3], pca.components_[0], color='r')\n",
    "plt.xticks([1.5,2.5,3.5], ['x', 'y', 'z'])\n",
    "plt.show()\n",
    "\n",
    "print('1st tIC', tica.components_ / np.linalg.norm(tica.components_))\n",
    "print('1st PC ', pca.components_ / np.linalg.norm(pca.components_))"
   ]
  },
  {
   "cell_type": "markdown",
   "metadata": {},
   "source": [
    "Note that the first tIC \"finds\" a projection that just resolves the $x$ coordinate, whereas PCA doesn't."
   ]
  }
 ],
 "metadata": {
  "kernelspec": {
   "display_name": "Python 2",
   "language": "python",
   "name": "python2"
  },
  "language_info": {
   "codemirror_mode": {
    "name": "ipython",
    "version": 2
   },
   "file_extension": ".py",
   "mimetype": "text/x-python",
   "name": "python",
   "nbconvert_exporter": "python",
   "pygments_lexer": "ipython2",
   "version": "2.7.6"
  }
 },
 "nbformat": 4,
 "nbformat_minor": 0
}
