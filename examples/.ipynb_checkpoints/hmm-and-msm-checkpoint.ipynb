{
 "cells": [
  {
   "cell_type": "markdown",
   "metadata": {},
   "source": [
    "This example builds HMM and MSMs on the alanine_dipeptide dataset using varing lag times\n",
    "and numbers of states, and compares the relaxation timescales\n"
   ]
  },
  {
   "cell_type": "code",
   "execution_count": 1,
   "metadata": {
    "collapsed": false
   },
   "outputs": [],
   "source": [
    "from __future__ import print_function\n",
    "import os\n",
    "%matplotlib inline\n",
    "from matplotlib.pyplot import *\n",
    "from msmbuilder.featurizer import SuperposeFeaturizer\n",
    "from msmbuilder.example_datasets import AlanineDipeptide\n",
    "from msmbuilder.hmm import GaussianHMM\n",
    "from msmbuilder.cluster import KCenters\n",
    "from msmbuilder.msm import MarkovStateModel"
   ]
  },
  {
   "cell_type": "markdown",
   "metadata": {},
   "source": [
    "## First: load and \"featurize\"\n",
    "\n",
    "Featurization refers to the process of converting the conformational\n",
    "snapshots from your MD trajectories into vectors in some space $\\mathbb{R}^N$ that can be manipulated and modeled by subsequent analyses. The Gaussian HMM, for instance, uses Gaussian emission distributions, so it models the trajectory as a time-dependent\n",
    "mixture of multivariate Gaussians.\n",
    "\n",
    "In general, the featurization is somewhat of an art. For this example, we're using Mixtape's `SuperposeFeaturizer`, which superposes each snapshot onto a reference frame (`trajectories[0][0]` in this example), and then measure the distance from each\n",
    "atom to its position in the reference conformation as the 'feature'"
   ]
  },
  {
   "cell_type": "code",
   "execution_count": 2,
   "metadata": {
    "collapsed": false
   },
   "outputs": [
    {
     "name": "stdout",
     "output_type": "stream",
     "text": [
      "The dataset consists of ten 10ns trajectories of of alanine dipeptide,\n",
      "simulated using OpenMM 6.0.1 (CUDA platform, NVIDIA GTX660) with the\n",
      "AMBER99SB-ILDN force field at 300K (langevin dynamics, friction coefficient\n",
      "of 91/ps, timestep of 2fs) with GBSA implicit solvent. The coordinates are\n",
      "saved every 1ps. Each trajectory contains 9,999 snapshots.\n",
      "\n",
      "The dataset, including the script used to generate the dataset\n",
      "is available on figshare at\n",
      "\n",
      "http://dx.doi.org/10.6084/m9.figshare.1026131\n",
      "\n"
     ]
    }
   ],
   "source": [
    "print(AlanineDipeptide.description())\n",
    "\n",
    "dataset = AlanineDipeptide().get()\n",
    "trajectories = dataset.trajectories\n",
    "topology = trajectories[0].topology\n",
    "\n",
    "indices = [atom.index for atom in topology.atoms if atom.element.symbol in ['C', 'O', 'N']]\n",
    "featurizer = SuperposeFeaturizer(indices, trajectories[0][0])\n",
    "sequences = featurizer.transform(trajectories)"
   ]
  },
  {
   "cell_type": "markdown",
   "metadata": {},
   "source": [
    "### Now `sequences` is our featurized data."
   ]
  },
  {
   "cell_type": "code",
   "execution_count": 3,
   "metadata": {
    "collapsed": false
   },
   "outputs": [
    {
     "name": "stdout",
     "output_type": "stream",
     "text": [
      "n_states=3\tlag_time=1\ttimescales=[ 135.11400429    1.660205  ]\n",
      "n_states=3\tlag_time=10\ttimescales=[ 209.43678994    6.07974438]\n",
      "n_states=3\tlag_time=20\ttimescales=[ 222.936281      6.22883389]\n",
      "n_states=3\tlag_time=30\ttimescales=[ 227.81527385    7.55691363]\n",
      "n_states=3\tlag_time=40\ttimescales=[ 231.2537131     8.81003209]\n",
      "\n",
      "n_states=5\tlag_time=1\ttimescales=[ 139.42203669    4.4603255     1.66401839    0.93722284]\n",
      "n_states=5\tlag_time=10\ttimescales=[ 211.17955801    6.08706038    3.27684305    2.49249265]\n",
      "n_states=5\tlag_time=20\ttimescales=[ 224.89090373    6.37971282    3.94086206    3.6774155 ]\n",
      "n_states=5\tlag_time=30\ttimescales=[ 228.62903203    7.66178536    6.56593671    5.49712998]\n",
      "n_states=5\tlag_time=40\ttimescales=[ 229.72004787    8.97053548    8.73164719]\n",
      "\n"
     ]
    }
   ],
   "source": [
    "lag_times = [1, 10, 20, 30, 40]\n",
    "hmm_ts0 = {}\n",
    "hmm_ts1 = {}\n",
    "n_states = [3, 5]\n",
    "\n",
    "for n in n_states:\n",
    "    hmm_ts0[n] = []\n",
    "    hmm_ts1[n] = []\n",
    "    for lag_time in lag_times:\n",
    "        strided_data = [s[i::lag_time] for s in sequences for i in range(lag_time)]\n",
    "        hmm = GaussianHMM(n_states=n, n_init=1).fit(strided_data)\n",
    "        timescales = hmm.timescales_ * lag_time\n",
    "        hmm_ts0[n].append(timescales[0])\n",
    "        hmm_ts1[n].append(timescales[1])\n",
    "        print('n_states=%d\\tlag_time=%d\\ttimescales=%s' % (n, lag_time, timescales))\n",
    "    print()"
   ]
  },
  {
   "cell_type": "code",
   "execution_count": 4,
   "metadata": {
    "collapsed": false
   },
   "outputs": [
    {
     "data": {
      "image/png": "[encoded data removed]",
      "text/plain": [
       "<matplotlib.figure.Figure at 0x7f636891d150>"
      ]
     },
     "metadata": {},
     "output_type": "display_data"
    }
   ],
   "source": [
    "figure(figsize=(14,3))\n",
    "\n",
    "for i, n in enumerate(n_states):\n",
    "    subplot(1,len(n_states),1+i)\n",
    "    plot(lag_times, hmm_ts0[n])\n",
    "    plot(lag_times, hmm_ts1[n])\n",
    "    if i == 0:\n",
    "        ylabel('Relaxation Timescale')\n",
    "    xlabel('Lag Time')\n",
    "    title('%d states' % n)\n",
    "\n",
    "show()"
   ]
  },
  {
   "cell_type": "code",
   "execution_count": 5,
   "metadata": {
    "collapsed": false
   },
   "outputs": [
    {
     "name": "stdout",
     "output_type": "stream",
     "text": [
      "n_states=4\tlag_time=1\ttimescales=[ 75.02996861   3.10191644]\n",
      "n_states=4\tlag_time=10\ttimescales=[ 191.88390011    5.78963831]\n",
      "n_states=4\tlag_time=20\ttimescales=[ 161.88152892    5.53872999]\n",
      "n_states=4\tlag_time=30\ttimescales=[ 185.39764113    7.11876713]\n",
      "n_states=4\tlag_time=40\ttimescales=[ 226.61615873    7.22322264]\n",
      "\n",
      "n_states=8\tlag_time=1\ttimescales=[ 83.38962275   2.45300736]\n",
      "n_states=8\tlag_time=10\ttimescales=[ 187.33905866    4.00629989]\n",
      "n_states=8\tlag_time=20\ttimescales=[ 219.43478778    5.44867013]\n",
      "n_states=8\tlag_time=30\ttimescales=[ 221.11064061    7.0820978 ]\n",
      "n_states=8\tlag_time=40\ttimescales=[ 215.36152251    8.64368949]\n",
      "\n",
      "n_states=16\tlag_time=1\ttimescales=[ 104.52931606    3.33999948]\n",
      "n_states=16\tlag_time=10\ttimescales=[ 211.23290662    6.3406698 ]\n",
      "n_states=16\tlag_time=20\ttimescales=[ 224.12545993    6.16575075]\n",
      "n_states=16\tlag_time=30\ttimescales=[ 227.1522646     8.13724895]\n",
      "n_states=16\tlag_time=40\ttimescales=[ 232.37031245   10.44928358]\n",
      "\n",
      "n_states=32\tlag_time=1\ttimescales=[ 132.68250471    4.02457605]\n",
      "n_states=32\tlag_time=10\ttimescales=[ 221.48470027    6.29451275]\n",
      "n_states=32\tlag_time=20\ttimescales=[ 230.59750118    6.55445973]\n",
      "n_states=32\tlag_time=30\ttimescales=[ 233.73280076    8.6664612 ]\n",
      "n_states=32\tlag_time=40\ttimescales=[ 233.70954917   10.64629338]\n",
      "\n",
      "n_states=64\tlag_time=1\ttimescales=[ 143.53202073    5.00700332]\n",
      "n_states=64\tlag_time=10\ttimescales=[ 230.42601364    6.55544736]\n",
      "n_states=64\tlag_time=20\ttimescales=[ 233.58246352    6.60240298]\n",
      "n_states=64\tlag_time=30\ttimescales=[ 234.8420761     8.91086777]\n",
      "n_states=64\tlag_time=40\ttimescales=[ 236.62160112   11.89550645]\n",
      "\n"
     ]
    }
   ],
   "source": [
    "msmts0, msmts1 = {}, {}\n",
    "lag_times = [1, 10, 20, 30, 40]\n",
    "n_states = [4, 8, 16, 32, 64]\n",
    "\n",
    "for n in n_states:\n",
    "    msmts0[n] = []\n",
    "    msmts1[n] = []\n",
    "    for lag_time in lag_times:\n",
    "        assignments = KCenters(n_clusters=n).fit_predict(sequences)\n",
    "        msm = MarkovStateModel(lag_time=lag_time, verbose=False).fit(assignments)\n",
    "        timescales = msm.timescales_\n",
    "        msmts0[n].append(timescales[0])\n",
    "        msmts1[n].append(timescales[1])\n",
    "        print('n_states=%d\\tlag_time=%d\\ttimescales=%s' % (n, lag_time, timescales[0:2]))\n",
    "    print()"
   ]
  },
  {
   "cell_type": "code",
   "execution_count": 6,
   "metadata": {
    "collapsed": false
   },
   "outputs": [
    {
     "data": {
      "image/png": "[encoded data removed]",
      "text/plain": [
       "<matplotlib.figure.Figure at 0x7f639198c210>"
      ]
     },
     "metadata": {},
     "output_type": "display_data"
    }
   ],
   "source": [
    "figure(figsize=(14,3))\n",
    "\n",
    "for i, n in enumerate(n_states):\n",
    "    subplot(1,len(n_states),1+i)\n",
    "    plot(lag_times, msmts0[n])\n",
    "    plot(lag_times, msmts1[n])\n",
    "    if i == 0:\n",
    "        ylabel('Relaxation Timescale')\n",
    "    xlabel('Lag Time')\n",
    "    title('%d states' % n)\n",
    "\n",
    "show()"
   ]
  },
  {
   "cell_type": "code",
   "execution_count": null,
   "metadata": {
    "collapsed": true
   },
   "outputs": [],
   "source": []
  }
 ],
 "metadata": {
  "kernelspec": {
   "display_name": "Python 2",
   "language": "python",
   "name": "python2"
  },
  "language_info": {
   "codemirror_mode": {
    "name": "ipython",
    "version": 2
   },
   "file_extension": ".py",
   "mimetype": "text/x-python",
   "name": "python",
   "nbconvert_exporter": "python",
   "pygments_lexer": "ipython2",
   "version": "2.7.6"
  }
 },
 "nbformat": 4,
 "nbformat_minor": 0
}
