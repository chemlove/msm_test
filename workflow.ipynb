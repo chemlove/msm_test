{
 "cells": [
  {
   "cell_type": "markdown",
   "metadata": {},
   "source": [
    "# transition pathways between unliganded- and liganded- gp120 explored by adaptive parallel simulation and Markov state models\n",
    "\n",
    "## work flow\n",
    "1. structures preparation: generating unliganded- and liganded- structure.\n",
    "2. fixed-site MD simulation (gromacs).\n",
    "3. Markov State Models (msmbuilder).\n",
    "4. adaptive sampling (msmbuilder and python piptied).\n",
    "5. Transition Path Theory\n",
    "6. protein function analysis.\n",
    "\n",
    "## structures preparation\n",
    "### unliganded\n",
    "[4ZMJ](http://www.rcsb.org/pdb/home/home.do)\n",
    "\n",
    "4ZMJ: remove gp41 and others (how to)\n",
    "### liganded\n",
    "[3JWD](http://www.rcsb.org/pdb/home/home.do)\n",
    "[2B4C](http://www.rcsb.org/pdb/home/home.do)\n",
    "[3FUS](http://www.rcsb.org/pdb/home/home.do)\n",
    "\n",
    "3JWD_A:   core N- C-\n",
    "2B4C_G:   core       V3\n",
    "liganded: core N- C- V3\n",
    "\n",
    "## fixed-site MD simulation\n",
    "### atomistic general MD simulation\n",
    "### fixed-sites\n",
    "### trajectory transform\n",
    "MSMs required trajectories in .pdb file format."
   ]
  },
  {
   "cell_type": "code",
   "execution_count": null,
   "metadata": {
    "collapsed": true
   },
   "outputs": [],
   "source": []
  }
 ],
 "metadata": {
  "kernelspec": {
   "display_name": "Python 2",
   "language": "python",
   "name": "python2"
  },
  "language_info": {
   "codemirror_mode": {
    "name": "ipython",
    "version": 2
   },
   "file_extension": ".py",
   "mimetype": "text/x-python",
   "name": "python",
   "nbconvert_exporter": "python",
   "pygments_lexer": "ipython2",
   "version": "2.7.6"
  }
 },
 "nbformat": 4,
 "nbformat_minor": 0
}
