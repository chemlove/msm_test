{
 "cells": [
  {
   "cell_type": "code",
   "execution_count": 3,
   "metadata": {
    "collapsed": true
   },
   "outputs": [],
   "source": [
    "%matplotlib inline\n",
    "import numpy as np\n",
    "import matplotlib.pyplot as plt\n",
    "from mdtraj.utils import timing\n",
    "\n",
    "from msmbuilder.example_datasets import QuadWell\n",
    "from msmbuilder.msm import BayesianMarkovStateModel\n",
    "from msmbuilder.msm import ContinuousTimeMSM"
   ]
  },
  {
   "cell_type": "code",
   "execution_count": null,
   "metadata": {
    "collapsed": false
   },
   "outputs": [],
   "source": [
    "import mdtraj as md\n",
    "trajs = [md.load('bound_trajs/liganded_1.pdb'), md.load('bound_trajs/liganded_2.pdb'), \n",
    "         md.load('bound_trajs/liganded_3.pdb'), md.load('bound_trajs/liganded_4.pdb'), \n",
    "         md.load('bound_trajs/liganded_5.pdb'), md.load('bound_trajs/liganded_6.pdb'), \n",
    "         md.load('bound_trajs/liganded_7.pdb'), md.load('bound_trajs/liganded_8.pdb'), \n",
    "         md.load('bound_trajs/liganded_9.pdb'), md.load('bound_trajs/liganded_10.pdb'), \n",
    "         md.load('bound_trajs/liganded_11.pdb'), md.load('bound_trajs/liganded_12.pdb'), \n",
    "         md.load('bound_trajs/liganded_13.pdb')] \n",
    "top = trajs[0].topology\n",
    "ref = md.load('bound_trajs/bound.pdb')"
   ]
  },
  {
   "cell_type": "code",
   "execution_count": 2,
   "metadata": {
    "collapsed": false
   },
   "outputs": [
    {
     "ename": "NameError",
     "evalue": "name 'top' is not defined",
     "output_type": "error",
     "traceback": [
      "\u001b[1;31m---------------------------------------------------------------------------\u001b[0m",
      "\u001b[1;31mNameError\u001b[0m                                 Traceback (most recent call last)",
      "\u001b[1;32m<ipython-input-2-48310ecd73c7>\u001b[0m in \u001b[0;36m<module>\u001b[1;34m()\u001b[0m\n\u001b[0;32m      1\u001b[0m \u001b[1;32mfrom\u001b[0m \u001b[0mmsmbuilder\u001b[0m\u001b[1;33m.\u001b[0m\u001b[0mfeaturizer\u001b[0m \u001b[1;32mimport\u001b[0m \u001b[0mSuperposeFeaturizer\u001b[0m\u001b[1;33m\u001b[0m\u001b[0m\n\u001b[1;32m----> 2\u001b[1;33m \u001b[0mindices\u001b[0m \u001b[1;33m=\u001b[0m \u001b[1;33m[\u001b[0m\u001b[0matom\u001b[0m\u001b[1;33m.\u001b[0m\u001b[0mindex\u001b[0m \u001b[1;32mfor\u001b[0m \u001b[0matom\u001b[0m \u001b[1;32min\u001b[0m \u001b[0mtop\u001b[0m\u001b[1;33m.\u001b[0m\u001b[0matoms\u001b[0m \u001b[1;32mif\u001b[0m \u001b[0matom\u001b[0m\u001b[1;33m.\u001b[0m\u001b[0melement\u001b[0m\u001b[1;33m.\u001b[0m\u001b[0msymbol\u001b[0m \u001b[1;32min\u001b[0m \u001b[1;33m[\u001b[0m\u001b[1;34m'C'\u001b[0m\u001b[1;33m,\u001b[0m \u001b[1;34m'O'\u001b[0m\u001b[1;33m,\u001b[0m \u001b[1;34m'N'\u001b[0m\u001b[1;33m]\u001b[0m\u001b[1;33m]\u001b[0m\u001b[1;33m\u001b[0m\u001b[0m\n\u001b[0m\u001b[0;32m      3\u001b[0m \u001b[0mfeaturizer\u001b[0m \u001b[1;33m=\u001b[0m \u001b[0mSuperposeFeaturizer\u001b[0m\u001b[1;33m(\u001b[0m\u001b[0mindices\u001b[0m\u001b[1;33m,\u001b[0m \u001b[0mref\u001b[0m\u001b[1;33m)\u001b[0m\u001b[1;33m\u001b[0m\u001b[0m\n\u001b[0;32m      4\u001b[0m \u001b[0msequences\u001b[0m \u001b[1;33m=\u001b[0m \u001b[0mfeaturizer\u001b[0m\u001b[1;33m.\u001b[0m\u001b[0mtransform\u001b[0m\u001b[1;33m(\u001b[0m\u001b[0mtrajs\u001b[0m\u001b[1;33m)\u001b[0m\u001b[1;33m\u001b[0m\u001b[0m\n",
      "\u001b[1;31mNameError\u001b[0m: name 'top' is not defined"
     ]
    }
   ],
   "source": [
    "from msmbuilder.featurizer import SuperposeFeaturizer\n",
    "indices = [atom.index for atom in top.atoms if atom.element.symbol in ['C', 'O', 'N']]\n",
    "featurizer = SuperposeFeaturizer(indices, ref)\n",
    "sequences = featurizer.transform(trajs)"
   ]
  },
  {
   "cell_type": "code",
   "execution_count": 1,
   "metadata": {
    "collapsed": false
   },
   "outputs": [
    {
     "ename": "NameError",
     "evalue": "name 'NDGrid' is not defined",
     "output_type": "error",
     "traceback": [
      "\u001b[1;31m---------------------------------------------------------------------------\u001b[0m",
      "\u001b[1;31mNameError\u001b[0m                                 Traceback (most recent call last)",
      "\u001b[1;32m<ipython-input-1-e4d3fb916419>\u001b[0m in \u001b[0;36m<module>\u001b[1;34m()\u001b[0m\n\u001b[0;32m      1\u001b[0m \u001b[0mlag_time\u001b[0m \u001b[1;33m=\u001b[0m \u001b[1;36m1\u001b[0m\u001b[1;33m\u001b[0m\u001b[0m\n\u001b[0;32m      2\u001b[0m \u001b[0mn_states\u001b[0m \u001b[1;33m=\u001b[0m \u001b[1;36m25\u001b[0m\u001b[1;33m\u001b[0m\u001b[0m\n\u001b[1;32m----> 3\u001b[1;33m \u001b[0mseqs\u001b[0m \u001b[1;33m=\u001b[0m \u001b[0mNDGrid\u001b[0m\u001b[1;33m(\u001b[0m\u001b[0mn_states\u001b[0m\u001b[1;33m)\u001b[0m\u001b[1;33m.\u001b[0m\u001b[0mfit_transform\u001b[0m\u001b[1;33m(\u001b[0m\u001b[0msequences\u001b[0m\u001b[1;33m)\u001b[0m\u001b[1;33m\u001b[0m\u001b[0m\n\u001b[0m\u001b[0;32m      4\u001b[0m \u001b[1;33m\u001b[0m\u001b[0m\n\u001b[0;32m      5\u001b[0m \u001b[1;32mwith\u001b[0m \u001b[0mtiming\u001b[0m\u001b[1;33m(\u001b[0m\u001b[1;34m'ContinuousTimeMSM'\u001b[0m\u001b[1;33m)\u001b[0m\u001b[1;33m:\u001b[0m\u001b[1;33m\u001b[0m\u001b[0m\n",
      "\u001b[1;31mNameError\u001b[0m: name 'NDGrid' is not defined"
     ]
    }
   ],
   "source": [
    "n_states = 25\n",
    "lag_time = 10\n",
    "with timing('ContinuousTimeMSM'):\n",
    "    rates_model = ContinuousTimeMSM(lag_time=lag_time,).fit(seqs)\n",
    "with timing('BayesianMarkovStateModel'):\n",
    "    # generating 1000 samples from the distribution, using 2e4 steps between samples\n",
    "    # to ensure that they're decorrelated\n",
    "    bayes_model = BayesianMarkovStateModel(lag_time=lag_time, n_samples=int(1e3), n_steps=1e4).fit(seqs)"
   ]
  },
  {
   "cell_type": "code",
   "execution_count": 6,
   "metadata": {
    "collapsed": false
   },
   "outputs": [
    {
     "name": "stderr",
     "output_type": "stream",
     "text": [
      "/usr/local/lib/python2.7/dist-packages/msmbuilder-3.3.0.dev0-py2.7-linux-x86_64.egg/msmbuilder/msm/bayesmsm.py:339: RuntimeWarning: invalid value encountered in log\n",
      "  timescales = - self.lag_time / np.log(us[:, 1:])\n"
     ]
    },
    {
     "data": {
      "text/plain": [
       "<matplotlib.text.Text at 0x7faa8fc8d390>"
      ]
     },
     "execution_count": 6,
     "metadata": {},
     "output_type": "execute_result"
    },
    {
     "data": {
      "image/png": "[encoded data removed]",
      "text/plain": [
       "<matplotlib.figure.Figure at 0x7faa8fc99110>"
      ]
     },
     "metadata": {},
     "output_type": "display_data"
    }
   ],
   "source": [
    "%matplotlib inline\n",
    "from matplotlib.pyplot import *\n",
    "\n",
    "plot(bayes_model.all_timescales_[:, 0])\n",
    "xlabel('Iteration')\n",
    "ylabel('Releaxation timescale')"
   ]
  },
  {
   "cell_type": "code",
   "execution_count": null,
   "metadata": {
    "collapsed": false
   },
   "outputs": [],
   "source": [
    "figure(figsize=(14,4))\n",
    "grid(False)\n",
    "\n",
    "# SUBPLOT 1. ContinuousTimeMSM\n",
    "subplot(1,3,1, axisbg='white')\n",
    "# the mean and 2-std error bars in the populations\n",
    "rates_mean = rates_model.populations_\n",
    "rates_err = 2*rates_model.uncertainty_pi()\n",
    "print np.arange(n_states)\n",
    "print len(rates_mean)\n",
    "print len(rates_err)\n",
    "# errorbar(x=np.arange(n_states), y=rates_mean, yerr=rates_err, color='b')\n",
    "# fill_between(x=np.arange(n_states), y1=rates_mean+rates_err, y2=rates_mean-rates_err, color='b', alpha=0.2)\n",
    "# title('MLE continuous-time MSM')\n",
    "# xlabel('States')\n",
    "# ylabel('Populations')\n",
    "\n",
    "# SUBPLOT 2. ContinuousTimeMSM\n",
    "subplot(1,3,2, axisbg='white')\n",
    "# the mean and 2-std error bars in the populations, from\n",
    "# averaging over the MCMC samples\n",
    "bayes_mean = np.mean(bayes_model.all_populations_, axis=0)\n",
    "bayes_err = 2*np.std(bayes_model.all_populations_, axis=0)\n",
    "print len(bayes_mean)\n",
    "print len(bayes_err)\n",
    "print bayes_err\n",
    "errorbar(x=np.arange(n_states), y=bayes_mean, yerr=bayes_err, c='r')\n",
    "fill_between(x=np.arange(n_states), y1=bayes_mean+bayes_err, y2=bayes_mean-bayes_err, color='r', alpha=0.2)\n",
    "title('Bayesian discrete-time MSM (MCMC)')\n",
    "xlabel('States')\n",
    "ylabel('Populations')\n",
    "\n",
    "# SUBPLOT3. Potential energy\n",
    "subplot(1,3,3, axisbg='white')\n",
    "title('Potential energy surface')\n",
    "xlabel('Position')\n",
    "ylabel('Potential')\n",
    "# the potential function\n",
    "potential_x = np.linspace(-1, 1, 200)\n",
    "V = quadwell.potential(potential_x)\n",
    "plot(potential_x, V, 'k')\n",
    "\n",
    "tight_layout()"
   ]
  },
  {
   "cell_type": "code",
   "execution_count": null,
   "metadata": {
    "collapsed": true
   },
   "outputs": [],
   "source": []
  }
 ],
 "metadata": {
  "kernelspec": {
   "display_name": "Python 2",
   "language": "python",
   "name": "python2"
  },
  "language_info": {
   "codemirror_mode": {
    "name": "ipython",
    "version": 2
   },
   "file_extension": ".py",
   "mimetype": "text/x-python",
   "name": "python",
   "nbconvert_exporter": "python",
   "pygments_lexer": "ipython2",
   "version": "2.7.6"
  }
 },
 "nbformat": 4,
 "nbformat_minor": 0
}
