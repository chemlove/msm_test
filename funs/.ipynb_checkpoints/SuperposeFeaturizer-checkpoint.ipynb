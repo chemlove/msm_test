{
 "cells": [
  {
   "cell_type": "markdown",
   "metadata": {},
   "source": [
    "# SuperposeFeaturizer\n",
    "\n",
    "``` python\n",
    "class SuperposeFeaturizer(Featurizer):\n",
    "    \"\"\"Featurizer based on euclidian atom distances to reference structure.\n",
    "\n",
    "    This featurizer transforms a dataset containing MD trajectories into\n",
    "    a vector dataset by representing each frame in each of the MD trajectories\n",
    "    by a vector containing the distances from a specified set of atoms to\n",
    "    the 'reference position' of those atoms, in ``reference_traj``.\n",
    "\n",
    "    Parameters\n",
    "    ----------\n",
    "    atom_indices : np.ndarray, shape=(n_atoms,), dtype=int\n",
    "        The indices of the atoms to superpose and compute the distances with\n",
    "    reference_traj : md.Trajectory\n",
    "        The reference conformation to superpose each frame with respect to\n",
    "        (only the first frame in reference_traj is used)\n",
    "    superpose_atom_indices : np.ndarray, shape=(n_atoms,), dtype=int\n",
    "        If not None, these atom_indices are used for the superposition\n",
    "    \"\"\"\n",
    "```\n"
   ]
  },
  {
   "cell_type": "code",
   "execution_count": null,
   "metadata": {
    "collapsed": true
   },
   "outputs": [],
   "source": []
  }
 ],
 "metadata": {
  "kernelspec": {
   "display_name": "Python 2",
   "language": "python",
   "name": "python2"
  },
  "language_info": {
   "codemirror_mode": {
    "name": "ipython",
    "version": 2
   },
   "file_extension": ".py",
   "mimetype": "text/x-python",
   "name": "python",
   "nbconvert_exporter": "python",
   "pygments_lexer": "ipython2",
   "version": "2.7.6"
  }
 },
 "nbformat": 4,
 "nbformat_minor": 0
}
