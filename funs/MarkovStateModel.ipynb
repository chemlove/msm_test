{
 "cells": [
  {
   "cell_type": "markdown",
   "metadata": {},
   "source": [
    "# MarkovStateModel\n",
    "\n",
    "``` python\n",
    "class MarkovStateModel(BaseEstimator, _MappingTransformMixin, _SampleMSMMixin):\n",
    "    \"\"\"Reversible Markov State Model\n",
    "\n",
    "    This model fits a first-order Markov model to a dataset of integer-valued\n",
    "    timeseries. The key estimated attribute, ``transmat_`` is a matrix\n",
    "    containing the estimated probability of transitioning between pairs\n",
    "    of states in the duration specified by ``lag_time``.\n",
    "\n",
    "    Unless otherwise specified, the model is constrained to be reversible\n",
    "    (satisfy detailed balance), which is appropriate for equilibrium chemical\n",
    "    systems.\n",
    "\n",
    "    Parameters\n",
    "    ----------\n",
    "    lag_time : int\n",
    "        The lag time of the model\n",
    "    n_timescales : int, optional\n",
    "        The number of dynamical timescales to calculate when diagonalizing\n",
    "        the transition matrix.\n",
    "    reversible_type : {'mle', 'transpose', None}\n",
    "        Method by which the reversibility of the transition matrix\n",
    "        is enforced. 'mle' uses a maximum likelihood method that is\n",
    "        solved by numerical optimization, and 'transpose'\n",
    "        uses a more restrictive (but less computationally complex)\n",
    "        direct symmetrization of the expected number of counts.\n",
    "    ergodic_cutoff : float or {'on', 'off'}, default='on'\n",
    "        Only the maximal strongly ergodic subgraph of the data is used to build\n",
    "        an MSM. Ergodicity is determined by ensuring that each state is\n",
    "        accessible from each other state via one or more paths involving edges\n",
    "        with a number of observed directed counts greater than or equal to\n",
    "        ``ergodic_cutoff``. By setting ``ergodic_cutoff`` to 0 or\n",
    "        'off', this trimming is turned off. Setting it to 'on' sets the\n",
    "        cutoff to the minimal possible count value.\n",
    "    prior_counts : float, optional\n",
    "        Add a number of \"pseudo counts\" to each entry in the counts matrix\n",
    "        after ergodic trimming.  When prior_counts == 0 (default), the assigned\n",
    "        transition probability between two states with no observed transitions\n",
    "        will be zero, whereas when prior_counts > 0, even this unobserved\n",
    "        transitions will be given nonzero probability.\n",
    "    sliding_window : bool, optional\n",
    "        Count transitions using a window of length ``lag_time``, which is slid\n",
    "        along the sequences 1 unit at a time, yielding transitions which\n",
    "        contain more data but cannot be assumed to be statistically\n",
    "        independent. Otherwise, the sequences are simply subsampled at an\n",
    "        interval of ``lag_time``.\n",
    "    verbose : bool\n",
    "        Enable verbose printout\n",
    "\n",
    "    References\n",
    "    ----------\n",
    "    .. [1] Prinz, Jan-Hendrik, et al. \"Markov models of molecular kinetics:\n",
    "       Generation and validation.\" J Chem. Phys. 134.17 (2011): 174105.\n",
    "    .. [2] Pande, V. S., K. A. Beauchamp, and G. R. Bowman. \"Everything you\n",
    "       wanted to know about Markov State Models but were afraid to ask\"\n",
    "       Methods 52.1 (2010): 99-105.\n",
    "\n",
    "    Attributes\n",
    "    ----------\n",
    "    n_states_ : int\n",
    "        The number of states in the model\n",
    "    mapping_ : dict\n",
    "        Mapping between \"input\" labels and internal state indices used by the\n",
    "        counts and transition matrix for this Markov state model. Input states\n",
    "        need not necessarily be integers in (0, ..., n_states_ - 1), for\n",
    "        example. The semantics of ``mapping_[i] = j`` is that state ``i`` from\n",
    "        the \"input space\" is represented by the index ``j`` in this MSM.\n",
    "    countsmat_ : array_like, shape = (n_states_, n_states_)\n",
    "        Number of transition counts between states. countsmat_[i, j] is counted\n",
    "        during `fit()`. The indices `i` and `j` are the \"internal\" indices\n",
    "        described above. No correction for reversibility is made to this\n",
    "        matrix.\n",
    "    transmat_ : array_like, shape = (n_states_, n_states_)\n",
    "        Maximum likelihood estimate of the reversible transition matrix.\n",
    "        The indices `i` and `j` are the \"internal\" indices described above.\n",
    "    populations_ : array, shape = (n_states_,)\n",
    "        The equilibrium population (stationary eigenvector) of transmat_\n",
    "    \"\"\"\n",
    "```"
   ]
  },
  {
   "cell_type": "markdown",
   "metadata": {
    "collapsed": true
   },
   "source": [
    "## step 1. count the number of transitions\n",
    "* sliding_window\n"
   ]
  },
  {
   "cell_type": "markdown",
   "metadata": {},
   "source": [
    "## step 2. restrict the counts to the maximal strongly ergodic"
   ]
  }
 ],
 "metadata": {
  "kernelspec": {
   "display_name": "Python 2",
   "language": "python",
   "name": "python2"
  },
  "language_info": {
   "codemirror_mode": {
    "name": "ipython",
    "version": 2
   },
   "file_extension": ".py",
   "mimetype": "text/x-python",
   "name": "python",
   "nbconvert_exporter": "python",
   "pygments_lexer": "ipython2",
   "version": "2.7.6"
  }
 },
 "nbformat": 4,
 "nbformat_minor": 0
}
