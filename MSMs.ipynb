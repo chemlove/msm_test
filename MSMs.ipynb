{
 "cells": [
  {
   "cell_type": "markdown",
   "metadata": {},
   "source": [
    "# Markov State Models\n",
    "Markov state Models (MSMs) are kinetic models that describe the conformational dynamics of proteins in terms of jumps between the conformational states of the protein. \n",
    "A MSMs can be thought as a map of the conformational space a molecule explores and it consists of \n",
    "\n",
    "(1) a set of conformational states which are corresponding to the local minima in the free energy landscape\n",
    "\n",
    "(2) a transition probability matrix which stands for the rate for transitioning across the barrier separating two states.\n",
    "\n",
    "Recently, MSMs have had success at modeling long-time statistical dynamics."
   ]
  },
  {
   "cell_type": "markdown",
   "metadata": {},
   "source": [
    "## building a MSMs\n",
    "\n",
    "trajectories -①-> microstates -②-> macrostates -③-> validating\n",
    "\n",
    "1. microstate clustering\n",
    "2. macrostate lumping\n",
    "3. validating the MSM\n",
    "\n",
    "![MSMs flow](./pics/msm_flow.png)"
   ]
  },
  {
   "cell_type": "markdown",
   "metadata": {},
   "source": [
    "## generalized ensemble data"
   ]
  },
  {
   "cell_type": "code",
   "execution_count": 9,
   "metadata": {
    "collapsed": false
   },
   "outputs": [],
   "source": [
    "# load simulation data\n",
    "import mdtraj as md\n",
    "\n",
    "trajs = [md.load('bound_trajs/liganded_1.pdb'), md.load('bound_trajs/liganded_2.pdb'), \n",
    "         md.load('bound_trajs/liganded_3.pdb'), md.load('bound_trajs/liganded_4.pdb'), \n",
    "         md.load('bound_trajs/liganded_5.pdb'), md.load('bound_trajs/liganded_6.pdb'), \n",
    "         md.load('bound_trajs/liganded_7.pdb'), md.load('bound_trajs/liganded_8.pdb'), \n",
    "         md.load('bound_trajs/liganded_9.pdb'), md.load('bound_trajs/liganded_10.pdb'), \n",
    "         md.load('bound_trajs/liganded_11.pdb'), md.load('bound_trajs/liganded_12.pdb'), \n",
    "         md.load('bound_trajs/liganded_13.pdb')] \n",
    "top = trajs[0].topology\n",
    "ref = md.load('bound_trajs/bound.pdb')"
   ]
  },
  {
   "cell_type": "code",
   "execution_count": 10,
   "metadata": {
    "collapsed": false
   },
   "outputs": [
    {
     "data": {
      "text/plain": [
       "[<mdtraj.Trajectory with 101 frames, 4000 atoms, 401 residues, and unitcells at 0x7f9bf7f2e2d0>,\n",
       " <mdtraj.Trajectory with 101 frames, 4000 atoms, 401 residues, and unitcells at 0x7f9c1ed1f5d0>,\n",
       " <mdtraj.Trajectory with 101 frames, 4000 atoms, 401 residues, and unitcells at 0x7f9c3c164c50>,\n",
       " <mdtraj.Trajectory with 101 frames, 4000 atoms, 401 residues, and unitcells at 0x7f9bec2d05d0>,\n",
       " <mdtraj.Trajectory with 101 frames, 4000 atoms, 401 residues, and unitcells at 0x7f9c3ea30490>,\n",
       " <mdtraj.Trajectory with 101 frames, 4000 atoms, 401 residues, and unitcells at 0x7f9c1d9cd550>,\n",
       " <mdtraj.Trajectory with 101 frames, 4000 atoms, 401 residues, and unitcells at 0x7f9bf860ef50>,\n",
       " <mdtraj.Trajectory with 101 frames, 4000 atoms, 401 residues, and unitcells at 0x7f9c1db21350>,\n",
       " <mdtraj.Trajectory with 101 frames, 4000 atoms, 401 residues, and unitcells at 0x7f9c1e110f90>,\n",
       " <mdtraj.Trajectory with 101 frames, 4000 atoms, 401 residues, and unitcells at 0x7f9c3ea23090>,\n",
       " <mdtraj.Trajectory with 101 frames, 4000 atoms, 401 residues, and unitcells at 0x7f9c26267dd0>,\n",
       " <mdtraj.Trajectory with 101 frames, 4000 atoms, 401 residues, and unitcells at 0x7f9beb5abb90>,\n",
       " <mdtraj.Trajectory with 101 frames, 4000 atoms, 401 residues, and unitcells at 0x7f9bf7f2e210>]"
      ]
     },
     "execution_count": 10,
     "metadata": {},
     "output_type": "execute_result"
    }
   ],
   "source": [
    "trajs"
   ]
  },
  {
   "cell_type": "code",
   "execution_count": 11,
   "metadata": {
    "collapsed": false
   },
   "outputs": [
    {
     "data": {
      "text/plain": [
       "<mdtraj.Trajectory with 1 frames, 4000 atoms, 401 residues, and unitcells at 0x7f9beb40ef10>"
      ]
     },
     "execution_count": 11,
     "metadata": {},
     "output_type": "execute_result"
    }
   ],
   "source": [
    "ref"
   ]
  },
  {
   "cell_type": "markdown",
   "metadata": {
    "collapsed": false
   },
   "source": [
    "## microstate clustering\n",
    "* clustering microstates based on structural similarity which measured by RMSD for some subset of the atoms.\n",
    "*  If the partition of the microstates is fine enough, a group of the microstates will correspond/minimize to the same energy-minimum basin.\n",
    "* RMSD:(1) conformations with very small RMSDs should be able to interconvert rapidly. (2)it is important to see a sufficient number of transitions between microstates.\n",
    "* the most meaningful grouping of microstates would be to group every conformation in the same trajectory together.\n",
    "* measure the average RMSD between every pair of temporally adjacent conformations in each trajectory and to ensure that the diameter of each microstate is no more than this value.\n",
    "* all-heavy-atom 2-2.5 A.\n",
    "\n",
    "### kinetically-relevant geometric clustering\n",
    "* a clustering that only groups conformations together if the system can transition between them quickly relative to transitions between clusters.\n",
    "* two conformations with a 5 Å RMSD could (1) fall within the same free energy basin if they only differ by pivoting of a hinge motion while (2) another pair of conformations separated by the same distance could fall in different basins if they differ by strand pairings in a beta sheet.\n",
    "* in fact, two conformations separated by only a few A are likely to inter-convert rapidly.\n",
    "\n",
    "### rich & poor simulation data\n",
    "* rich case: trajectories from the start conformation to the end conformation.\n",
    "* poor case: partial or periodical trajectories."
   ]
  },
  {
   "cell_type": "code",
   "execution_count": 12,
   "metadata": {
    "collapsed": false
   },
   "outputs": [],
   "source": [
    "# featurize simulation data\n",
    "from msmbuilder.featurizer import SuperposeFeaturizer\n",
    "\n",
    "indices = [atom.index for atom in top.atoms if atom.element.symbol in ['C', 'O', 'N']]\n",
    "featurizer = SuperposeFeaturizer(indices, ref)\n",
    "sequences = featurizer.transform(trajs)"
   ]
  },
  {
   "cell_type": "markdown",
   "metadata": {},
   "source": [
    "### Estimating the transition probability matrix\n",
    "#### transition count matrix C(τ)\n",
    "The transition count matrix C(τ), which denotes the number of observed transitions from state i at time t to state j at time t + τ, where τ is the lag time of the model.\n",
    "* transition count matrix should be symmetric because all elementary transitions should be reversible under equilibrium condition. But the equilibrium sampling is almost never reached in simulations\n",
    "* Markovian in physical sense: next conformation is simply a deterministic function of the system's current state.\n",
    "* lag time or observation interval τ\n",
    "* the Chapman-Kolmogorov equation: taking n steps with an MSM with a lag\n",
    "* time of τ should be equivalent to an MSM with a lag time of nτ.\n",
    "\n",
    "#### transition probability matrix T(τ)\n",
    "the transition probability matrix T(τ) includes the probability of transitions from state i to state j in\n",
    "a certain time interval τ is obtained by normalizing C(τ) with the sum of all transitions from state i. \n",
    "* To ensure that the total population of all the states is conserved, a maximum likelihood estimate of the transition probability matrix that obeys the detailed balance is obtained. \n",
    "* The eigenvalues/eigenvectors of the transition matrix gives information about the aggregate transitions between subsets of states in the model and what timescales these transitions occur on. \n",
    "* The equilibrium populations of the individual states are estimated from the first eigenvector of the transition probability matrix. \n",
    "* The timescales of the dynamical processes occurring on the conformational landscape of the protein can be obtained by estimating the eigenvalues of this matrix."
   ]
  },
  {
   "cell_type": "code",
   "execution_count": 15,
   "metadata": {
    "collapsed": false
   },
   "outputs": [
    {
     "name": "stdout",
     "output_type": "stream",
     "text": [
      "n_states=4\tlag_time=1\ttimescales=[ 13.69597038   5.36032666]\n",
      "n_states=4\tlag_time=10\ttimescales=[ 18.52680444  12.1759904 ]\n",
      "n_states=4\tlag_time=20\ttimescales=[ 114.84345412   26.78377022]\n",
      "n_states=4\tlag_time=30\ttimescales=[ 218.41948697   36.78146018]\n",
      "n_states=4\tlag_time=40\ttimescales=[ 94.22832128  37.264041  ]\n",
      "()\n",
      "n_states=8\tlag_time=1\ttimescales=[ 7.53525981  5.72560249]\n",
      "n_states=8\tlag_time=10\ttimescales=[ 46.48934225  21.01191403]\n",
      "n_states=8\tlag_time=20\ttimescales=[ 226.51823456   48.10222444]\n",
      "n_states=8\tlag_time=30\ttimescales=[ 305.6275493   39.7581925]\n",
      "n_states=8\tlag_time=40\ttimescales=[ 144.40534729   52.57632782]\n",
      "()\n",
      "n_states=16\tlag_time=1\ttimescales=[ 12.82118785   9.82623573]\n",
      "n_states=16\tlag_time=10\ttimescales=[ 66.09281383  40.81237063]\n",
      "n_states=16\tlag_time=20\ttimescales=[ 280.91344753   58.10146719]\n",
      "n_states=16\tlag_time=30\ttimescales=[ 104.13862542   61.24680165]\n",
      "n_states=16\tlag_time=40\ttimescales=[ 401.44046677  102.43904196]\n",
      "()\n",
      "n_states=32\tlag_time=1\ttimescales=[ 44.5413152   18.60235385]\n",
      "n_states=32\tlag_time=10\ttimescales=[ 183.59335709  127.46906601]\n",
      "n_states=32\tlag_time=20\ttimescales=[ 667.69543361  116.81896801]\n",
      "n_states=32\tlag_time=30\ttimescales=[ 3848.43677344   264.42485487]\n",
      "n_states=32\tlag_time=40\ttimescales=[ 590.44661879  164.54732337]\n",
      "()\n",
      "n_states=64\tlag_time=1\ttimescales=[ 41.60241629  30.26008743]\n",
      "n_states=64\tlag_time=10\ttimescales=[ 16976.21023202    343.59252769]\n",
      "n_states=64\tlag_time=20\ttimescales=[ 1004.42587152   199.49071325]\n",
      "n_states=64\tlag_time=30\ttimescales=[ 532.73684251  207.79197659]\n",
      "n_states=64\tlag_time=40\ttimescales=[ 646.97870236  263.54918233]\n",
      "()\n"
     ]
    }
   ],
   "source": [
    "from msmbuilder.cluster import KCenters\n",
    "from msmbuilder.msm import MarkovStateModel\n",
    "\n",
    "msmts0, msmts1 = {}, {}\n",
    "lag_times = [1, 10, 20, 30, 40]\n",
    "n_states = [4, 8, 16, 32, 64]\n",
    "\n",
    "for n in n_states:\n",
    "    msmts0[n] = []\n",
    "    msmts1[n] = []\n",
    "    for lag_time in lag_times:\n",
    "        assignments = KCenters(n_clusters=n).fit_predict(sequences)\n",
    "        msm = MarkovStateModel(lag_time=lag_time, verbose=False).fit(assignments)\n",
    "        timescales = msm.timescales_\n",
    "        msmts0[n].append(timescales[0])\n",
    "        msmts1[n].append(timescales[1])\n",
    "        print('n_states=%d\\tlag_time=%d\\ttimescales=%s' % (n, lag_time, timescales[0:2]))\n",
    "    print()"
   ]
  },
  {
   "cell_type": "code",
   "execution_count": 16,
   "metadata": {
    "collapsed": false
   },
   "outputs": [
    {
     "data": {
      "image/png": "[encoded data removed]",
      "text/plain": [
       "<matplotlib.figure.Figure at 0x7f9c1d9c9f10>"
      ]
     },
     "metadata": {},
     "output_type": "display_data"
    }
   ],
   "source": [
    "%matplotlib inline\n",
    "from matplotlib.pyplot import *\n",
    "\n",
    "figure(figsize=(14,3))\n",
    "\n",
    "for i, n in enumerate(n_states):\n",
    "    subplot(1,len(n_states),1+i)\n",
    "    plot(lag_times, msmts0[n])\n",
    "    plot(lag_times, msmts1[n])\n",
    "    if i == 0:\n",
    "        ylabel('Relaxation Timescale')\n",
    "    xlabel('Lag Time')\n",
    "    title('%d states' % n)\n",
    "\n",
    "show()"
   ]
  },
  {
   "cell_type": "markdown",
   "metadata": {},
   "source": [
    "## macrostate lumping\n",
    "looking at the transition/kinetics between the microstates in order to connect those microstates separated by low-energy barriers (i.e. those with fast inter-microstates transitions) into a single metastable state (macrostate). In this way, by first partitioning the conformations into microstates and then lumping the microstates into macrostates the complete energy landscape can be partitioned into a small set of metastable states, such macrostate division of the energy landscape is not only representing the underlying kinetics of the system, but also by reducing the number of states in the system.\n",
    "\n",
    "* macrostates are coarse-graining microstate models.\n",
    "* kinetically-relevant states require that structures within a state can inter-convert on timescales faster than the lag time. \n",
    "* increasing the lag time means that states can get larger and more coarse grained.\n",
    "\n",
    "###  eigenvector \n",
    "eigenvector actually corresponds to a certain state distribution that can give rise to a sustainable mode of transitions between groups of states, with the signed structure of the eigenvector indicating the two groups between which the transition occurs.\n",
    "\n",
    "\n",
    "### Perron cluster cluster analysis (PCCA)"
   ]
  },
  {
   "cell_type": "markdown",
   "metadata": {
    "collapsed": true
   },
   "source": [
    "## Adaptive sampling\n",
    "In the adaptive sampling scheme, MSMs are built after an initial dataset is obtained to identify new conformational states of protein, which are then used as the starting points for future simulations.\n",
    "\n",
    "Adaptive sampling procedures seek to identify the starting configurations for future simulations such that the conformational landscapes can be sampled efficiently.\n",
    "\n",
    "This procedure ensures that the future simulations are started from the edges of the conformational landscape, thereby avoiding the already well-sampled stable states.\n",
    "\n",
    "### adaptive seeding method (ASM)\n",
    "### error analysis technique (EAT)\n",
    "* determine the main contributors to the error which gives rise to the greatest uncertainties.\n",
    "* each row corresponds to transitions from a single state, so if we find that one row contributes the most to the uncertainty , we can decrease the uncertainty from that row by generating new transitions from that state."
   ]
  },
  {
   "cell_type": "markdown",
   "metadata": {},
   "source": [
    "## Validating the MSMs\n",
    "Testing whether an MSM is self-consistent.\n",
    "### Swope–Pitera eigenvalue test\n",
    "### Chapman–Kolmogorov test\n",
    "### Bayesian model selection approaches."
   ]
  },
  {
   "cell_type": "markdown",
   "metadata": {},
   "source": [
    "## MSM requirements\n",
    "1. states are metastable.\n",
    "2. intrastate transitions are fast.\n",
    "3. interstate transitions are distinct and slow.\n",
    "\n",
    "![MSMs](./pics/msm.png)\n",
    " (a). Projection of the energy potential\n",
    "for 100 microstates onto one discrete coordinate, three energy bins were identified. (b). Transition matrix T for the 100 microstates. (c). Left eigenvectors of T indicating the transition information between different microstates. Each eigenvector corresponds to a certain mode of sustainable transitions between groups of states with the signed structure indicating the two groups. Except the first eigenvector provides the stationary distribution. (d). The eigenvalue spectrum of T. (e) Projections of the 100 microstates onto the second and third right eigenvectors of T. (f) Transition information for the macrostates A, B and C."
   ]
  },
  {
   "cell_type": "markdown",
   "metadata": {
    "collapsed": true
   },
   "source": [
    "## future work\n",
    "1. state scalable MSMs.\n",
    "2. extendible clustering method and training data."
   ]
  },
  {
   "cell_type": "code",
   "execution_count": null,
   "metadata": {
    "collapsed": true
   },
   "outputs": [],
   "source": []
  }
 ],
 "metadata": {
  "kernelspec": {
   "display_name": "Python 2",
   "language": "python",
   "name": "python2"
  },
  "language_info": {
   "codemirror_mode": {
    "name": "ipython",
    "version": 2
   },
   "file_extension": ".py",
   "mimetype": "text/x-python",
   "name": "python",
   "nbconvert_exporter": "python",
   "pygments_lexer": "ipython2",
   "version": "2.7.6"
  }
 },
 "nbformat": 4,
 "nbformat_minor": 0
}
