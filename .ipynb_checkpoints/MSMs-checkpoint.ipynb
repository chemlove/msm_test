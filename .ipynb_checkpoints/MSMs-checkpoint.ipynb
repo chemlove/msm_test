{
 "cells": [
  {
   "cell_type": "markdown",
   "metadata": {},
   "source": [
    "# Markov State Models\n",
    "Markov state Models (MSMs) are kinetic models that describe the conformational dynamics of proteins in terms of jumps between the conformational states of the protein. \n",
    "A MSMs can be thought as a map of the conformational space a molecule explores and it consists of \n",
    "\n",
    "(1) a set of conformational states which are corresponding to the local minima in the free energy landscape\n",
    "\n",
    "(2) a transition probability matrix which stands for the rate for transitioning across the barrier separating two states.\n",
    "\n",
    "Recently, MSMs have had success at modeling long-time statistical dynamics."
   ]
  },
  {
   "cell_type": "markdown",
   "metadata": {},
   "source": [
    "## building a MSMs\n",
    "\n",
    "trajectories -①-> microstates -②-> macrostates -③-> validating\n",
    "\n",
    "1. microstate clustering\n",
    "2. macrostate lumping\n",
    "3. validating the MSM\n",
    "\n",
    "![MSMs flow](./pics/msm_flow.png)"
   ]
  },
  {
   "cell_type": "markdown",
   "metadata": {},
   "source": [
    "## generalized ensemble data"
   ]
  },
  {
   "cell_type": "code",
   "execution_count": 5,
   "metadata": {
    "collapsed": false
   },
   "outputs": [
    {
     "name": "stdout",
     "output_type": "stream",
     "text": [
      "<mdtraj.Trajectory with 101 frames, 4018 atoms, 401 residues, and unitcells>\n",
      "<mdtraj.Trajectory with 1 frames, 4018 atoms, 401 residues, and unitcells>\n"
     ]
    }
   ],
   "source": [
    "# load simulation data\n",
    "import mdtraj as md\n",
    "\n",
    "traj = md.load('md.pdb')\n",
    "print traj\n",
    "print traj[0]\n",
    "\n",
    "top = traj.topology"
   ]
  },
  {
   "cell_type": "code",
   "execution_count": 6,
   "metadata": {
    "collapsed": false
   },
   "outputs": [
    {
     "data": {
      "text/plain": [
       "[<mdtraj.Trajectory with 101 frames, 4018 atoms, 401 residues, and unitcells at 0x7f183ffa0190>,\n",
       " <mdtraj.Trajectory with 101 frames, 4018 atoms, 401 residues, and unitcells at 0x7f183ffa0190>]"
      ]
     },
     "execution_count": 6,
     "metadata": {},
     "output_type": "execute_result"
    }
   ],
   "source": [
    "trajectories = [traj, traj]\n",
    "trajectories"
   ]
  },
  {
   "cell_type": "markdown",
   "metadata": {
    "collapsed": false
   },
   "source": [
    "## microstate clustering\n",
    "* clustering microstates based on structural similarity which measured by RMSD for some subset of the atoms.\n",
    "*  If the partition of the microstates is fine enough, a group of the microstates will correspond/minimize to the same energy-minimum basin.\n",
    "* RMSD:(1) conformations with very small RMSDs should be able to interconvert rapidly. (2)it is important to see a sufficient number of transitions between microstates.\n",
    "* the most meaningful grouping of microstates would be to group every conformation in the same trajectory together.\n",
    "* measure the average RMSD between every pair of temporally adjacent conformations in each trajectory and to ensure that the diameter of each microstate is no more than this value.\n",
    "* all-heavy-atom 2-2.5 A.\n",
    "\n",
    "### kinetically-relevant geometric clustering\n",
    "* a clustering that only groups conformations together if the system can transition between them quickly relative to transitions between clusters.\n",
    "* two conformations with a 5 Å RMSD could (1) fall within the same free energy basin if they only differ by pivoting of a hinge motion while (2) another pair of conformations separated by the same distance could fall in different basins if they differ by strand pairings in a beta sheet.\n",
    "* in fact, two conformations separated by only a few A are likely to inter-convert rapidly.\n",
    "\n",
    "### rich & poor simulation data\n",
    "* rich case: trajectories from the start conformation to the end conformation.\n",
    "* poor case: partial or periodical trajectories."
   ]
  },
  {
   "cell_type": "code",
   "execution_count": 11,
   "metadata": {
    "collapsed": false
   },
   "outputs": [],
   "source": [
    "# featurize simulation data\n",
    "from msmbuilder.featurizer import SuperposeFeaturizer\n",
    "\n",
    "indices = [atom.index for atom in top.atoms if atom.element.symbol in ['C', 'O', 'N']]\n",
    "featurizer = SuperposeFeaturizer(indices, trajectories[0][0])\n",
    "sequences = featurizer.transform(trajectories)"
   ]
  },
  {
   "cell_type": "markdown",
   "metadata": {},
   "source": [
    "### Estimating the transition probability matrix\n",
    "#### transition count matrix C(τ)\n",
    "The transition count matrix C(τ), which denotes the number of observed transitions from state i at time t to state j at time t + τ, where τ is the lag time of the model.\n",
    "* transition count matrix should be symmetric because all elementary transitions should be reversible under equilibrium condition. But the equilibrium sampling is almost never reached in simulations\n",
    "* Markovian in physical sense: next conformation is simply a deterministic function of the system's current state.\n",
    "* lag time or observation interval τ\n",
    "* the Chapman-Kolmogorov equation: taking n steps with an MSM with a lag\n",
    "* time of τ should be equivalent to an MSM with a lag time of nτ.\n",
    "\n",
    "#### transition probability matrix T(τ)\n",
    "the transition probability matrix T(τ) includes the probability of transitions from state i to state j in\n",
    "a certain time interval τ is obtained by normalizing C(τ) with the sum of all transitions from state i. \n",
    "* To ensure that the total population of all the states is conserved, a maximum likelihood estimate of the transition probability matrix that obeys the detailed balance is obtained. \n",
    "* The eigenvalues/eigenvectors of the transition matrix gives information about the aggregate transitions between subsets of states in the model and what timescales these transitions occur on. \n",
    "* The equilibrium populations of the individual states are estimated from the first eigenvector of the transition probability matrix. \n",
    "* The timescales of the dynamical processes occurring on the conformational landscape of the protein can be obtained by estimating the eigenvalues of this matrix."
   ]
  },
  {
   "cell_type": "code",
   "execution_count": 26,
   "metadata": {
    "collapsed": false
   },
   "outputs": [
    {
     "name": "stdout",
     "output_type": "stream",
     "text": [
      "MSM contains 2 strongly connected components above weight=1.00. Component 0 selected, with population 61.000000%\n"
     ]
    },
    {
     "ename": "IndexError",
     "evalue": "index 1 is out of bounds for axis 0 with size 1",
     "output_type": "error",
     "traceback": [
      "\u001b[1;31m---------------------------------------------------------------------------\u001b[0m",
      "\u001b[1;31mIndexError\u001b[0m                                Traceback (most recent call last)",
      "\u001b[1;32m<ipython-input-26-2acea51b9baf>\u001b[0m in \u001b[0;36m<module>\u001b[1;34m()\u001b[0m\n\u001b[0;32m     14\u001b[0m         \u001b[0mtimescales\u001b[0m \u001b[1;33m=\u001b[0m \u001b[0mmsm\u001b[0m\u001b[1;33m.\u001b[0m\u001b[0mtimescales_\u001b[0m\u001b[1;33m\u001b[0m\u001b[0m\n\u001b[0;32m     15\u001b[0m         \u001b[0mmsmts0\u001b[0m\u001b[1;33m[\u001b[0m\u001b[0mn\u001b[0m\u001b[1;33m]\u001b[0m\u001b[1;33m.\u001b[0m\u001b[0mappend\u001b[0m\u001b[1;33m(\u001b[0m\u001b[0mtimescales\u001b[0m\u001b[1;33m[\u001b[0m\u001b[1;36m0\u001b[0m\u001b[1;33m]\u001b[0m\u001b[1;33m)\u001b[0m\u001b[1;33m\u001b[0m\u001b[0m\n\u001b[1;32m---> 16\u001b[1;33m         \u001b[0mmsmts1\u001b[0m\u001b[1;33m[\u001b[0m\u001b[0mn\u001b[0m\u001b[1;33m]\u001b[0m\u001b[1;33m.\u001b[0m\u001b[0mappend\u001b[0m\u001b[1;33m(\u001b[0m\u001b[0mtimescales\u001b[0m\u001b[1;33m[\u001b[0m\u001b[1;36m1\u001b[0m\u001b[1;33m]\u001b[0m\u001b[1;33m)\u001b[0m\u001b[1;33m\u001b[0m\u001b[0m\n\u001b[0m\u001b[0;32m     17\u001b[0m         \u001b[1;32mprint\u001b[0m\u001b[1;33m(\u001b[0m\u001b[1;34m'n_states=%d\\tlag_time=%d\\ttimescales=%s'\u001b[0m \u001b[1;33m%\u001b[0m \u001b[1;33m(\u001b[0m\u001b[0mn\u001b[0m\u001b[1;33m,\u001b[0m \u001b[0mlag_time\u001b[0m\u001b[1;33m,\u001b[0m \u001b[0mtimescales\u001b[0m\u001b[1;33m[\u001b[0m\u001b[1;36m0\u001b[0m\u001b[1;33m:\u001b[0m\u001b[1;36m2\u001b[0m\u001b[1;33m]\u001b[0m\u001b[1;33m)\u001b[0m\u001b[1;33m)\u001b[0m\u001b[1;33m\u001b[0m\u001b[0m\n\u001b[0;32m     18\u001b[0m     \u001b[1;32mprint\u001b[0m\u001b[1;33m(\u001b[0m\u001b[1;33m)\u001b[0m\u001b[1;33m\u001b[0m\u001b[0m\n",
      "\u001b[1;31mIndexError\u001b[0m: index 1 is out of bounds for axis 0 with size 1"
     ]
    }
   ],
   "source": [
    "from msmbuilder.cluster import KCenters\n",
    "from msmbuilder.msm import MarkovStateModel\n",
    "\n",
    "msmts0, msmts1 = {}, {}\n",
    "lag_times = [1, 10, 20, 30, 40]\n",
    "n_states = [4, 8, 16, 32, 64]\n",
    "\n",
    "for n in n_states:\n",
    "    msmts0[n] = []\n",
    "    msmts1[n] = []\n",
    "    for lag_time in lag_times:\n",
    "        assignments = KCenters(n_clusters=n).fit_predict(sequences)\n",
    "        msm = MarkovStateModel(lag_time=lag_time, n_timescales=3, verbose=True).fit(assignments)\n",
    "        timescales = msm.timescales_\n",
    "        msmts0[n].append(timescales[0])\n",
    "        msmts1[n].append(timescales[1])\n",
    "        print('n_states=%d\\tlag_time=%d\\ttimescales=%s' % (n, lag_time, timescales[0:2]))\n",
    "    print()"
   ]
  },
  {
   "cell_type": "markdown",
   "metadata": {},
   "source": [
    "## macrostate lumping\n",
    "looking at the transition/kinetics between the microstates in order to connect those microstates separated by low-energy barriers (i.e. those with fast inter-microstates transitions) into a single metastable state (macrostate). In this way, by first partitioning the conformations into microstates and then lumping the microstates into macrostates the complete energy landscape can be partitioned into a small set of metastable states, such macrostate division of the energy landscape is not only representing the underlying kinetics of the system, but also by reducing the number of states in the system.\n",
    "\n",
    "* macrostates are coarse-graining microstate models.\n",
    "* kinetically-relevant states require that structures within a state can inter-convert on timescales faster than the lag time. \n",
    "* increasing the lag time means that states can get larger and more coarse grained.\n",
    "\n",
    "###  eigenvector \n",
    "eigenvector actually corresponds to a certain state distribution that can give rise to a sustainable mode of transitions between groups of states, with the signed structure of the eigenvector indicating the two groups between which the transition occurs.\n",
    "\n",
    "\n",
    "### Perron cluster cluster analysis (PCCA)"
   ]
  },
  {
   "cell_type": "markdown",
   "metadata": {
    "collapsed": true
   },
   "source": [
    "## Adaptive sampling\n",
    "In the adaptive sampling scheme, MSMs are built after an initial dataset is obtained to identify new conformational states of protein, which are then used as the starting points for future simulations.\n",
    "\n",
    "Adaptive sampling procedures seek to identify the starting configurations for future simulations such that the conformational landscapes can be sampled efficiently.\n",
    "\n",
    "This procedure ensures that the future simulations are started from the edges of the conformational landscape, thereby avoiding the already well-sampled stable states.\n",
    "\n",
    "### adaptive seeding method (ASM)\n",
    "### error analysis technique (EAT)\n",
    "* determine the main contributors to the error which gives rise to the greatest uncertainties.\n",
    "* each row corresponds to transitions from a single state, so if we find that one row contributes the most to the uncertainty , we can decrease the uncertainty from that row by generating new transitions from that state."
   ]
  },
  {
   "cell_type": "markdown",
   "metadata": {},
   "source": [
    "## Validating the MSMs\n",
    "Testing whether an MSM is self-consistent.\n",
    "### Swope–Pitera eigenvalue test\n",
    "### Chapman–Kolmogorov test\n",
    "### Bayesian model selection approaches."
   ]
  },
  {
   "cell_type": "markdown",
   "metadata": {},
   "source": [
    "## MSM requirements\n",
    "1. states are metastable.\n",
    "2. intrastate transitions are fast.\n",
    "3. interstate transitions are distinct and slow.\n",
    "\n",
    "![MSMs](./pics/msm.png)\n",
    " (a). Projection of the energy potential\n",
    "for 100 microstates onto one discrete coordinate, three energy bins were identified. (b). Transition matrix T for the 100 microstates. (c). Left eigenvectors of T indicating the transition information between different microstates. Each eigenvector corresponds to a certain mode of sustainable transitions between groups of states with the signed structure indicating the two groups. Except the first eigenvector provides the stationary distribution. (d). The eigenvalue spectrum of T. (e) Projections of the 100 microstates onto the second and third right eigenvectors of T. (f) Transition information for the macrostates A, B and C."
   ]
  },
  {
   "cell_type": "markdown",
   "metadata": {
    "collapsed": true
   },
   "source": [
    "## future work\n",
    "1. state scalable MSMs.\n",
    "2. extendible clustering method and training data."
   ]
  },
  {
   "cell_type": "code",
   "execution_count": null,
   "metadata": {
    "collapsed": true
   },
   "outputs": [],
   "source": []
  }
 ],
 "metadata": {
  "kernelspec": {
   "display_name": "Python 2",
   "language": "python",
   "name": "python2"
  },
  "language_info": {
   "codemirror_mode": {
    "name": "ipython",
    "version": 2
   },
   "file_extension": ".py",
   "mimetype": "text/x-python",
   "name": "python",
   "nbconvert_exporter": "python",
   "pygments_lexer": "ipython2",
   "version": "2.7.6"
  }
 },
 "nbformat": 4,
 "nbformat_minor": 0
}
