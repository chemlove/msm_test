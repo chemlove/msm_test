{
 "cells": [
  {
   "cell_type": "markdown",
   "metadata": {},
   "source": [
    "A test for [MDTraj](http://mdtraj.org/) about calculating interactions within 6 A."
   ]
  },
  {
   "cell_type": "code",
   "execution_count": 3,
   "metadata": {
    "collapsed": false
   },
   "outputs": [
    {
     "data": {
      "text/plain": [
       "<mdtraj.Trajectory with 101 frames, 4018 atoms, 401 residues, and unitcells at 0x7f8fe1f720d0>"
      ]
     },
     "execution_count": 3,
     "metadata": {},
     "output_type": "execute_result"
    }
   ],
   "source": [
    "import mdtraj as md\n",
    "traj = md.load('./material/md.pdb')\n",
    "traj"
   ]
  },
  {
   "cell_type": "code",
   "execution_count": 5,
   "metadata": {
    "collapsed": false
   },
   "outputs": [
    {
     "data": {
      "text/plain": [
       "<mdtraj.Topology with 1 chains, 401 residues, 4018 atoms, 4088 bonds at 0x7f8fc1696150>"
      ]
     },
     "execution_count": 5,
     "metadata": {},
     "output_type": "execute_result"
    }
   ],
   "source": [
    "top = traj.topology\n",
    "top"
   ]
  },
  {
   "cell_type": "code",
   "execution_count": 6,
   "metadata": {
    "collapsed": false
   },
   "outputs": [
    {
     "name": "stdout",
     "output_type": "stream",
     "text": [
      "All residues: [VAL1, GLU2, LYS3, LEU4, TRP5, VAL6, THR7, VAL8, TYR9, TYR10, GLY11, VAL12, PRO13, VAL14, TRP15, LYS16, GLU17, ALA18, THR19, THR20, THR21, LEU22, PHE23, CYS24, ALA25, SER26, ASP27, ALA28, LYS29, ALA30, TYR31, ASP32, THR33, GLU34, VAL35, HIS36, ASN37, VAL38, TRP39, ALA40, THR41, HIS42, ALA43, CYS44, VAL45, PRO46, THR47, ASP48, PRO49, ASN50, PRO51, GLN52, GLU53, VAL54, VAL55, LEU56, GLU57, ASN58, VAL59, THR60, GLU61, HIS62, PHE63, ASN64, MET65, TRP66, LYS67, ASN68, ASN69, MET70, VAL71, GLU72, GLN73, MET74, GLN75, GLU76, ASP77, ILE78, ILE79, SER80, LEU81, TRP82, ASP83, GLN84, SER85, LEU86, LYS87, PRO88, CYS89, VAL90, LYS91, LEU92, THR93, PRO94, LEU95, CYS96, VAL97, GLY98, ALA99, GLY100, SER101, CYS102, ASP103, THR104, SER105, VAL106, ILE107, THR108, GLN109, ALA110, CYS111, PRO112, LYS113, ILE114, SER115, PHE116, GLU117, PRO118, ILE119, PRO120, ILE121, HIS122, TYR123, CYS124, ALA125, PRO126, ALA127, GLY128, PHE129, ALA130, ILE131, LEU132, LYS133, CYS134, ASN135, ASP136, LYS137, THR138, PHE139, ASN140, GLY141, LYS142, GLY143, PRO144, CYS145, LYS146, ASN147, VAL148, SER149, THR150, VAL151, GLN152, CYS153, THR154, HIS155, GLY156, ILE157, ARG158, PRO159, VAL160, VAL161, SER162, THR163, GLN164, LEU165, LEU166, LEU167, ASN168, GLY169, SER170, LEU171, ALA172, GLU173, GLU174, GLU175, VAL176, VAL177, ILE178, ARG179, SER180, ASP181, ASN182, PHE183, THR184, ASN185, ASN186, ALA187, LYS188, THR189, ILE190, ILE191, VAL192, GLN193, LEU194, LYS195, GLU196, SER197, VAL198, GLU199, ILE200, ASN201, CYS202, THR203, ARG204, PRO205, ASN206, ASN207, ASN208, THR209, ARG210, LYS211, SER212, ILE213, HIS214, ILE215, GLY216, PRO217, GLY218, ARG219, ALA220, PHE221, TYR222, THR223, THR224, GLY225, GLU226, ILE227, ILE228, GLY229, ASP230, ILE231, ARG232, GLN233, ALA234, HIS235, CYS236, ASN237, ILE238, SER239, ARG240, ALA241, LYS242, TRP243, ASN244, ASP245, THR246, LEU247, LYS248, GLN249, ILE250, VAL251, ILE252, LYS253, LEU254, ARG255, GLU256, GLN257, PHE258, GLU259, ASN260, LYS261, THR262, ILE263, VAL264, PHE265, ASN266, HIS267, SER268, SER269, GLY270, GLY271, ASP272, PRO273, GLU274, ILE275, VAL276, MET277, HIS278, SER279, PHE280, ASN281, CYS282, GLY283, GLY284, GLU285, PHE286, PHE287, TYR288, CYS289, ASN290, SER291, THR292, GLN293, LEU294, PHE295, ASN296, SER297, THR298, TRP299, ASN300, ASN301, ASN302, THR303, GLU304, GLY305, SER306, ASN307, ASN308, THR309, GLU310, GLY311, ASN312, THR313, ILE314, THR315, LEU316, PRO317, CYS318, ARG319, ILE320, LYS321, GLN322, ILE323, ILE324, ASN325, MET326, TRP327, GLN328, GLU329, VAL330, GLY331, LYS332, ALA333, MET334, TYR335, ALA336, PRO337, PRO338, ILE339, ARG340, GLY341, GLN342, ILE343, ARG344, CYS345, SER346, SER347, ASN348, ILE349, THR350, GLY351, LEU352, LEU353, LEU354, THR355, ARG356, ASP357, GLY358, GLY359, ILE360, ASN361, GLU362, ASN363, GLY364, THR365, GLU366, ILE367, PHE368, ARG369, PRO370, GLY371, GLY372, GLY373, ASP374, MET375, ARG376, ASP377, ASN378, TRP379, ARG380, SER381, GLU382, LEU383, TYR384, LYS385, TYR386, LYS387, VAL388, VAL389, LYS390, ILE391, GLU392, PRO393, LEU394, GLY395, VAL396, ALA397, PRO398, THR399, LYS400, ALA401]\n"
     ]
    }
   ],
   "source": [
    "print('All residues: %s' % [residue for residue in top.residues])"
   ]
  },
  {
   "cell_type": "code",
   "execution_count": 15,
   "metadata": {
    "collapsed": false
   },
   "outputs": [
    {
     "data": {
      "text/plain": [
       "mdtraj.core.topology.Atom"
      ]
     },
     "execution_count": 15,
     "metadata": {},
     "output_type": "execute_result"
    }
   ],
   "source": [
    "a0 = top.atom(0)\n",
    "a0\n",
    "type(a0)"
   ]
  },
  {
   "cell_type": "code",
   "execution_count": 16,
   "metadata": {
    "collapsed": false
   },
   "outputs": [
    {
     "ename": "TypeError",
     "evalue": "long() argument must be a string or a number, not 'Atom'",
     "output_type": "error",
     "traceback": [
      "\u001b[1;31m---------------------------------------------------------------------------\u001b[0m",
      "\u001b[1;31mTypeError\u001b[0m                                 Traceback (most recent call last)",
      "\u001b[1;32m<ipython-input-16-3bce856af06f>\u001b[0m in \u001b[0;36m<module>\u001b[1;34m()\u001b[0m\n\u001b[0;32m      1\u001b[0m \u001b[1;32mfrom\u001b[0m \u001b[0mmdtraj\u001b[0m \u001b[1;32mimport\u001b[0m \u001b[0mcompute_neighbors\u001b[0m\u001b[1;33m\u001b[0m\u001b[0m\n\u001b[1;32m----> 2\u001b[1;33m \u001b[0mrs\u001b[0m \u001b[1;33m=\u001b[0m \u001b[0mcompute_neighbors\u001b[0m\u001b[1;33m(\u001b[0m\u001b[0mtraj\u001b[0m\u001b[1;33m=\u001b[0m\u001b[0mtraj\u001b[0m\u001b[1;33m,\u001b[0m \u001b[0mcutoff\u001b[0m\u001b[1;33m=\u001b[0m\u001b[1;36m6.0\u001b[0m\u001b[1;33m,\u001b[0m \u001b[0mquery_indices\u001b[0m\u001b[1;33m=\u001b[0m\u001b[1;33m[\u001b[0m\u001b[0ma1\u001b[0m\u001b[1;33m]\u001b[0m\u001b[1;33m)\u001b[0m\u001b[1;33m\u001b[0m\u001b[0m\n\u001b[0m",
      "\u001b[1;32mmdtraj/geometry/neighbors.pyx\u001b[0m in \u001b[0;36mmdtraj.geometry.neighbors.compute_neighbors (mdtraj/geometry/neighbors.cpp:1632)\u001b[1;34m()\u001b[0m\n",
      "\u001b[1;32m/usr/local/lib/python2.7/dist-packages/mdtraj/utils/validation.pyc\u001b[0m in \u001b[0;36mensure_type\u001b[1;34m(val, dtype, ndim, name, length, can_be_none, shape, warn_on_cast, add_newaxis_on_deficient_ndim)\u001b[0m\n\u001b[0;32m     99\u001b[0m             \u001b[1;32mif\u001b[0m \u001b[0misinstance\u001b[0m\u001b[1;33m(\u001b[0m\u001b[0mval\u001b[0m\u001b[1;33m,\u001b[0m \u001b[0mcollections\u001b[0m\u001b[1;33m.\u001b[0m\u001b[0mSequence\u001b[0m\u001b[1;33m)\u001b[0m\u001b[1;33m:\u001b[0m\u001b[1;33m\u001b[0m\u001b[0m\n\u001b[0;32m    100\u001b[0m                 \u001b[1;31m# sequences are easy. these are like lists and stuff\u001b[0m\u001b[1;33m\u001b[0m\u001b[1;33m\u001b[0m\u001b[0m\n\u001b[1;32m--> 101\u001b[1;33m                 \u001b[0mval\u001b[0m \u001b[1;33m=\u001b[0m \u001b[0mnp\u001b[0m\u001b[1;33m.\u001b[0m\u001b[0marray\u001b[0m\u001b[1;33m(\u001b[0m\u001b[0mval\u001b[0m\u001b[1;33m,\u001b[0m \u001b[0mdtype\u001b[0m\u001b[1;33m=\u001b[0m\u001b[0mdtype\u001b[0m\u001b[1;33m)\u001b[0m\u001b[1;33m\u001b[0m\u001b[0m\n\u001b[0m\u001b[0;32m    102\u001b[0m             \u001b[1;32melse\u001b[0m\u001b[1;33m:\u001b[0m\u001b[1;33m\u001b[0m\u001b[0m\n\u001b[0;32m    103\u001b[0m                 \u001b[1;31m# this is a generator...\u001b[0m\u001b[1;33m\u001b[0m\u001b[1;33m\u001b[0m\u001b[0m\n",
      "\u001b[1;31mTypeError\u001b[0m: long() argument must be a string or a number, not 'Atom'"
     ]
    }
   ],
   "source": [
    "from mdtraj import compute_neighbors\n",
    "rs = compute_neighbors(traj=traj, cutoff=6.0, query_indices=[a1])"
   ]
  },
  {
   "cell_type": "code",
   "execution_count": null,
   "metadata": {
    "collapsed": true
   },
   "outputs": [],
   "source": []
  }
 ],
 "metadata": {
  "kernelspec": {
   "display_name": "Python 2",
   "language": "python",
   "name": "python2"
  },
  "language_info": {
   "codemirror_mode": {
    "name": "ipython",
    "version": 2
   },
   "file_extension": ".py",
   "mimetype": "text/x-python",
   "name": "python",
   "nbconvert_exporter": "python",
   "pygments_lexer": "ipython2",
   "version": "2.7.6"
  }
 },
 "nbformat": 4,
 "nbformat_minor": 0
}
